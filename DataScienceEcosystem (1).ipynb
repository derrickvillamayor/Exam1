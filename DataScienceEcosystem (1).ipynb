{
 "cells": [
  {
   "cell_type": "markdown",
   "id": "b6e79fc7-6f77-4478-a5ff-936554644aee",
   "metadata": {},
   "source": [
    "# Data Science Tools and Ecosystem"
   ]
  },
  {
   "cell_type": "markdown",
   "id": "251b2b98-ec66-478a-a15a-8f77fcc1ade9",
   "metadata": {},
   "source": [
    "In this notebook, Data Science Tools and Ecosystem are summarized"
   ]
  },
  {
   "cell_type": "markdown",
   "id": "486451af-36ae-429a-9225-3881cddce759",
   "metadata": {},
   "source": [
    "Some of the popular languages that Data Scientists use are:\n",
    "\n",
    "1. python\n",
    "2. R\n",
    "3. Ruby"
   ]
  },
  {
   "cell_type": "markdown",
   "id": "d3fd3395-1b62-4982-a87c-bd88c12cd558",
   "metadata": {},
   "source": [
    "Some of the commonly used libraries used by Data Scientists include:\n",
    "\n",
    "1. matplotlib\n",
    "2. pandas\n",
    "3. ggplot"
   ]
  },
  {
   "cell_type": "markdown",
   "id": "660ad93c-3582-4067-aa95-d07ce3456bb8",
   "metadata": {},
   "source": [
    "\n",
    "| Data Science Tools |\n",
    "|---|\n",
    "|apache |\n",
    "|jupyter|\n",
    "|anaconda|"
   ]
  },
  {
   "cell_type": "markdown",
   "id": "320966c5-6b27-4b21-8ae5-b59b401ece76",
   "metadata": {},
   "source": [
    "### Below are a few examples of evaluating arithmetic expressions in Python.\n"
   ]
  },
  {
   "cell_type": "code",
   "execution_count": null,
   "id": "b6600b01-93c9-4dfe-ac19-af2eb0b4e875",
   "metadata": {},
   "outputs": [],
   "source": [
    "## This a simple arithmetic expression to mutiply then add integers.\n",
    "\n",
    "(3*4) + 5\n"
   ]
  },
  {
   "cell_type": "code",
   "execution_count": null,
   "id": "92c70178-b889-4843-9f9b-ffff5f1ef53a",
   "metadata": {},
   "outputs": [],
   "source": [
    "## This will convert 200 minutes to hours by diving by 60.\n",
    "\n",
    "200/60"
   ]
  },
  {
   "cell_type": "markdown",
   "id": "602204ef-6dd6-4b80-ae26-67af944ed8bd",
   "metadata": {},
   "source": [
    "**Objectives:**\n",
    "\n",
    "- obj 1\n",
    "- obj 2\n",
    "- obj 3"
   ]
  },
  {
   "cell_type": "markdown",
   "id": "7b599cbc-c3f0-45e3-a603-e1bd06e00314",
   "metadata": {},
   "source": [
    "## John Derrick Lareza Villamayor"
   ]
  },
  {
   "cell_type": "code",
   "execution_count": null,
   "id": "4b83f472-66c5-4de5-8f4b-c787636404fe",
   "metadata": {},
   "outputs": [],
   "source": []
  }
 ],
 "metadata": {
  "kernelspec": {
   "display_name": "Python 3 (ipykernel)",
   "language": "python",
   "name": "python3"
  },
  "language_info": {
   "codemirror_mode": {
    "name": "ipython",
    "version": 3
   },
   "file_extension": ".py",
   "mimetype": "text/x-python",
   "name": "python",
   "nbconvert_exporter": "python",
   "pygments_lexer": "ipython3",
   "version": "3.11.9"
  }
 },
 "nbformat": 4,
 "nbformat_minor": 5
}
